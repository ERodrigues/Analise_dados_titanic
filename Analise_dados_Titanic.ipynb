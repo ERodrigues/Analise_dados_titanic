{
 "cells": [
  {
   "cell_type": "markdown",
   "metadata": {},
   "source": [
    "# Análise de dados - Titanic \n",
    "\n",
    "## História\n",
    "\n",
    "No início do século 20 o Titanic zarpou do porto de Southampton com destino a Nova York com cerca de 892 tripulantes e 2435 passageiros. No trejeto o navio ainda passou pelos portos de Cherbourg-Octeville na França e Queenstown na Irlanda. \n",
    "\n",
    "O navio não chegou ao seu destino em virtude de uma colisão com um iceberg no dia 14 de abril e acabou afundando no dia seguinte com mais de 1500 pessoas a bordo. \n",
    "\n",
    "\n",
    "## Fonte\n",
    "\n",
    "Nesta análise será utilizado a fonte de dados *train.csv* do site [Kaggle](https://www.kaggle.com/c/titanic/data) que contém um conjunto de dados dos passageiros do Titanic."
   ]
  },
  {
   "cell_type": "markdown",
   "metadata": {},
   "source": [
    "## Questionamentos \n",
    "\n",
    "As perguntas propostas são: \n",
    "- Quantas crianças haviam no navio?  \n",
    "- Quantas adultos haviam no navio?   \n",
    "- Quantas idosos haviam no navio?   \n",
    "- Qual a quantidade de homens e mulheres no navio?  \n",
    "- Quantas crianças sobreviveram e quantas morreram no acidente?  \n",
    "- Quantos passageiros sobreviveram no acidente?  \n",
    "- Sobreviveu mais homens ou mulheres?   \n",
    "- Qual foi o número de sobreviventes por faixa etaria?   \n",
    "- Qual a idade do sobrevivente mais novo?   \n",
    "- Qual a idade do sobrevivente mais idoso?  \n",
    "- Qual a idade média dos homens que estavam no návio?  \n",
    "- Qual a idade média das mulheres que estavam no návio?  \n",
    "- Qual a idade da vitima mais nova?  \n",
    "- Qual a idade da vitima mais idosa?   \n",
    "- Qual a classe em que se encontra o maior número de sobreviventes no návio?   \n",
    "- A idade interferiu no fator sobrevivência?   \n",
    "- Os passageiros com maior volume de parentes teve menos sobreviventes?   \n",
    "- Qual a quantidade de sobreviventes por local de embarque e classe do návio?  \n",
    "- Qual o custo médio do ticket por porto e classe?     \n",
    "- Quantos passageiros embarcaram por porto e classe? \n",
    "- Qual a média de valor pago por faixa etária?"
   ]
  },
  {
   "cell_type": "code",
   "execution_count": 219,
   "metadata": {},
   "outputs": [],
   "source": [
    "import pandas as pd \n",
    "import matplotlib.pyplot as plt\n",
    "import seaborn as sns\n",
    "\n",
    "% matplotlib inline"
   ]
  },
  {
   "cell_type": "code",
   "execution_count": 220,
   "metadata": {},
   "outputs": [
    {
     "name": "stdout",
     "output_type": "stream",
     "text": [
      "<class 'pandas.core.frame.DataFrame'>\n",
      "RangeIndex: 891 entries, 0 to 890\n",
      "Data columns (total 12 columns):\n",
      "PassengerId    891 non-null int64\n",
      "Survived       891 non-null int64\n",
      "Pclass         891 non-null int64\n",
      "Name           891 non-null object\n",
      "Sex            891 non-null object\n",
      "Age            714 non-null float64\n",
      "SibSp          891 non-null int64\n",
      "Parch          891 non-null int64\n",
      "Ticket         891 non-null object\n",
      "Fare           891 non-null float64\n",
      "Cabin          204 non-null object\n",
      "Embarked       889 non-null object\n",
      "dtypes: float64(2), int64(5), object(5)\n",
      "memory usage: 83.6+ KB\n"
     ]
    }
   ],
   "source": [
    "df = pd.read_csv ('data/all/train.csv')\n",
    "df.info()"
   ]
  },
  {
   "cell_type": "markdown",
   "metadata": {},
   "source": [
    "## Limpeza e preenchimento das informações faltantes"
   ]
  },
  {
   "cell_type": "markdown",
   "metadata": {},
   "source": [
    "Após os dados serem carregados para o DataFrame será feita a limpeza das informações que não serão uteis para as análises aqui propostas. E o preenchimento das informações que serão utilizadas, porém, estão com informações faltantes."
   ]
  },
  {
   "cell_type": "code",
   "execution_count": 221,
   "metadata": {},
   "outputs": [],
   "source": [
    "df.drop(['Cabin'], axis=1, inplace=True)"
   ]
  },
  {
   "cell_type": "markdown",
   "metadata": {},
   "source": [
    "Valido se no DataFrame há informações repeditas."
   ]
  },
  {
   "cell_type": "code",
   "execution_count": 222,
   "metadata": {},
   "outputs": [
    {
     "data": {
      "text/plain": [
       "0"
      ]
     },
     "execution_count": 222,
     "metadata": {},
     "output_type": "execute_result"
    }
   ],
   "source": [
    "df.duplicated().sum()"
   ]
  },
  {
   "cell_type": "markdown",
   "metadata": {},
   "source": [
    "Como não são todas informações de idade que estão preenchidas, atualizo a informação dos registros que não possuem a informação com a média do DataFrame"
   ]
  },
  {
   "cell_type": "code",
   "execution_count": 223,
   "metadata": {},
   "outputs": [
    {
     "name": "stdout",
     "output_type": "stream",
     "text": [
      "<class 'pandas.core.frame.DataFrame'>\n",
      "RangeIndex: 891 entries, 0 to 890\n",
      "Data columns (total 11 columns):\n",
      "PassengerId    891 non-null int64\n",
      "Survived       891 non-null int64\n",
      "Pclass         891 non-null int64\n",
      "Name           891 non-null object\n",
      "Sex            891 non-null object\n",
      "Age            891 non-null float64\n",
      "SibSp          891 non-null int64\n",
      "Parch          891 non-null int64\n",
      "Ticket         891 non-null object\n",
      "Fare           891 non-null float64\n",
      "Embarked       891 non-null object\n",
      "dtypes: float64(2), int64(5), object(4)\n",
      "memory usage: 76.6+ KB\n"
     ]
    }
   ],
   "source": [
    "mean = df['Age'].mean()\n",
    "df['Age'].fillna(mean, inplace=True)\n",
    "df['Embarked'].fillna('N/A', inplace=True)\n",
    "df.info()"
   ]
  },
  {
   "cell_type": "markdown",
   "metadata": {},
   "source": [
    "## Métodos "
   ]
  },
  {
   "cell_type": "markdown",
   "metadata": {},
   "source": [
    "Foram criados dois métodos para a análise dos dados com as seguintes finalidades: \n",
    "1. return_percentual: calulará e retornará o percentual de acordo com os valores passados evitando repetição de código \n",
    "2. categorie_age_range: método que retornará em qual faixa etária se encontra o passageiro de acordo com sua idade"
   ]
  },
  {
   "cell_type": "code",
   "execution_count": 224,
   "metadata": {},
   "outputs": [],
   "source": [
    "# Função utilizada para retornar o percentual de acordo com os parâmetros passados.\n",
    "def return_percentual (value_counts, count):\n",
    "    return round((value_counts/count)*100)"
   ]
  },
  {
   "cell_type": "code",
   "execution_count": 225,
   "metadata": {},
   "outputs": [],
   "source": [
    "def categorie_age_range (age):\n",
    "    if age <= 12:\n",
    "        return 'Crianca'\n",
    "    elif age > 12 and age < 61:\n",
    "        return 'Adulto'\n",
    "    else:\n",
    "        return 'Idoso'"
   ]
  },
  {
   "cell_type": "markdown",
   "metadata": {},
   "source": [
    "## Análise dos dados "
   ]
  },
  {
   "cell_type": "markdown",
   "metadata": {},
   "source": [
    "Abaixo é criado uma nova coluna no DataFrame informando qual a faixa etária dos passageiros."
   ]
  },
  {
   "cell_type": "code",
   "execution_count": 226,
   "metadata": {},
   "outputs": [],
   "source": [
    "df['Age_Range'] = df['Age'].apply(categorie_age_range)"
   ]
  },
  {
   "cell_type": "markdown",
   "metadata": {},
   "source": [
    "Conforme apresentado abaixo o maior volume de passageiros era composto por adultos e uma minoria estavam entre crianças e idosos. "
   ]
  },
  {
   "cell_type": "code",
   "execution_count": 227,
   "metadata": {},
   "outputs": [
    {
     "data": {
      "text/plain": [
       "Adulto     800\n",
       "Crianca     69\n",
       "Idoso       22\n",
       "Name: Age_Range, dtype: int64"
      ]
     },
     "execution_count": 227,
     "metadata": {},
     "output_type": "execute_result"
    }
   ],
   "source": [
    "df['Age_Range'].value_counts()"
   ]
  },
  {
   "cell_type": "code",
   "execution_count": 228,
   "metadata": {},
   "outputs": [
    {
     "data": {
      "text/plain": [
       "<matplotlib.legend.Legend at 0x7fca462293c8>"
      ]
     },
     "execution_count": 228,
     "metadata": {},
     "output_type": "execute_result"
    },
    {
     "data": {
      "image/png": "[encoded data removed]",
      "text/plain": [
       "<Figure size 432x288 with 1 Axes>"
      ]
     },
     "metadata": {},
     "output_type": "display_data"
    }
   ],
   "source": [
    "df['Age_Range'].value_counts().plot(kind='barh', \n",
    "                                    title='Quantidade de passageiros x Faixa etaria')\n",
    "plt.xlabel('Quantidade de passageiros')\n",
    "plt.ylabel('Faixa etária')\n",
    "plt.legend(loc='best')"
   ]
  },
  {
   "cell_type": "markdown",
   "metadata": {},
   "source": [
    "O maior número dos passageiros eram homens e a minoria era formada por mulheres no navio, conforme apresenta os dados abaixo:"
   ]
  },
  {
   "cell_type": "code",
   "execution_count": 229,
   "metadata": {},
   "outputs": [
    {
     "data": {
      "text/plain": [
       "<matplotlib.legend.Legend at 0x7fca46229ac8>"
      ]
     },
     "execution_count": 229,
     "metadata": {},
     "output_type": "execute_result"
    },
    {
     "data": {
      "image/png": "[encoded data removed]",
      "text/plain": [
       "<Figure size 432x288 with 1 Axes>"
      ]
     },
     "metadata": {},
     "output_type": "display_data"
    }
   ],
   "source": [
    "df['Sex'].value_counts().plot(title='Homens x Mulheres no navio', kind='bar')\n",
    "plt.xlabel('Genero')\n",
    "plt.ylabel('Quantidade de passageiros')\n",
    "plt.legend(loc='best')"
   ]
  },
  {
   "cell_type": "code",
   "execution_count": 230,
   "metadata": {},
   "outputs": [
    {
     "data": {
      "text/plain": [
       "1    58.0\n",
       "0    42.0\n",
       "Name: Survived, dtype: float64"
      ]
     },
     "execution_count": 230,
     "metadata": {},
     "output_type": "execute_result"
    }
   ],
   "source": [
    "age_range_survived = return_percentual(df[df['Age_Range']=='Crianca']['Survived'].value_counts(), \n",
    "                                       df[df['Age_Range']=='Crianca']['Survived'].count())\n",
    "age_range_survived"
   ]
  },
  {
   "cell_type": "code",
   "execution_count": 231,
   "metadata": {},
   "outputs": [
    {
     "data": {
      "text/plain": [
       "<matplotlib.legend.Legend at 0x7fca4615db70>"
      ]
     },
     "execution_count": 231,
     "metadata": {},
     "output_type": "execute_result"
    },
    {
     "data": {
      "image/png": "[encoded data removed]",
      "text/plain": [
       "<Figure size 360x360 with 1 Axes>"
      ]
     },
     "metadata": {},
     "output_type": "display_data"
    }
   ],
   "source": [
    "age_range_survived.plot(kind='pie', title='% de crianças sobreviventes', figsize=(5,5))\n",
    "plt.legend(loc='best')"
   ]
  },
  {
   "cell_type": "markdown",
   "metadata": {},
   "source": [
    "Os números abaixo mostram que 62% morreram na tragédia e apenas 38% sobreviveram. "
   ]
  },
  {
   "cell_type": "code",
   "execution_count": 232,
   "metadata": {},
   "outputs": [
    {
     "data": {
      "text/plain": [
       "0    62.0\n",
       "1    38.0\n",
       "Name: Survived, dtype: float64"
      ]
     },
     "execution_count": 232,
     "metadata": {},
     "output_type": "execute_result"
    }
   ],
   "source": [
    "survived = return_percentual (df['Survived'].value_counts(), df['Survived'].count())\n",
    "survived"
   ]
  },
  {
   "cell_type": "code",
   "execution_count": 233,
   "metadata": {},
   "outputs": [
    {
     "data": {
      "text/plain": [
       "<matplotlib.legend.Legend at 0x7fca46129518>"
      ]
     },
     "execution_count": 233,
     "metadata": {},
     "output_type": "execute_result"
    },
    {
     "data": {
      "image/png": "[encoded data removed]",
      "text/plain": [
       "<Figure size 432x288 with 1 Axes>"
      ]
     },
     "metadata": {},
     "output_type": "display_data"
    }
   ],
   "source": [
    "survived.plot(kind='Bar', title='% de sobreviventes')\n",
    "plt.xlabel('Identificador de Sobreviventes')\n",
    "plt.ylabel('% de sobreviventes')\n",
    "plt.legend(loc='best')"
   ]
  },
  {
   "cell_type": "markdown",
   "metadata": {},
   "source": [
    "Abaixo é criado um DataFrame contendo apenas dados dos passageiros sobreviventes a tragédia. "
   ]
  },
  {
   "cell_type": "code",
   "execution_count": 234,
   "metadata": {},
   "outputs": [
    {
     "name": "stdout",
     "output_type": "stream",
     "text": [
      "<class 'pandas.core.frame.DataFrame'>\n",
      "Int64Index: 342 entries, 1 to 889\n",
      "Data columns (total 12 columns):\n",
      "PassengerId    342 non-null int64\n",
      "Survived       342 non-null int64\n",
      "Pclass         342 non-null int64\n",
      "Name           342 non-null object\n",
      "Sex            342 non-null object\n",
      "Age            342 non-null float64\n",
      "SibSp          342 non-null int64\n",
      "Parch          342 non-null int64\n",
      "Ticket         342 non-null object\n",
      "Fare           342 non-null float64\n",
      "Embarked       342 non-null object\n",
      "Age_Range      342 non-null object\n",
      "dtypes: float64(2), int64(5), object(5)\n",
      "memory usage: 34.7+ KB\n"
     ]
    }
   ],
   "source": [
    "df_survived = df[df['Survived'] > 0]\n",
    "df_survived.info()"
   ]
  },
  {
   "cell_type": "markdown",
   "metadata": {},
   "source": [
    "Dos sobreviventes, 68% são mulheres enquanto que homens representam apenas 32%. Para chegar a este resultado, utilizei o DataFrame contendo apenas sobreviventes e calculei o percentual de sobreviventes por sexo."
   ]
  },
  {
   "cell_type": "code",
   "execution_count": 235,
   "metadata": {},
   "outputs": [
    {
     "data": {
      "text/plain": [
       "female    68.0\n",
       "male      32.0\n",
       "Name: Sex, dtype: float64"
      ]
     },
     "execution_count": 235,
     "metadata": {},
     "output_type": "execute_result"
    }
   ],
   "source": [
    "sex_survived = return_percentual (df_survived['Sex'].value_counts(), df_survived['Sex'].count())\n",
    "sex_survived"
   ]
  },
  {
   "cell_type": "code",
   "execution_count": 236,
   "metadata": {},
   "outputs": [
    {
     "data": {
      "text/plain": [
       "<matplotlib.legend.Legend at 0x7fca46104f28>"
      ]
     },
     "execution_count": 236,
     "metadata": {},
     "output_type": "execute_result"
    },
    {
     "data": {
      "image/png": "[encoded data removed]",
      "text/plain": [
       "<Figure size 432x288 with 1 Axes>"
      ]
     },
     "metadata": {},
     "output_type": "display_data"
    }
   ],
   "source": [
    "sex_survived.plot(kind='bar', title='% de sobreviventes por Genero')\n",
    "plt.xlabel('Genero')\n",
    "plt.ylabel('% de sobreviventes por Genero')\n",
    "plt.legend(loc='best')"
   ]
  },
  {
   "cell_type": "markdown",
   "metadata": {},
   "source": [
    "Abaixo é apresentado a faixa etaria dos sobreviventes e é possível identificar que o volume de idosos sobreviventes é bem baixo."
   ]
  },
  {
   "cell_type": "code",
   "execution_count": 237,
   "metadata": {
    "scrolled": true
   },
   "outputs": [
    {
     "data": {
      "text/plain": [
       "<matplotlib.legend.Legend at 0x7fca46074048>"
      ]
     },
     "execution_count": 237,
     "metadata": {},
     "output_type": "execute_result"
    },
    {
     "data": {
      "image/png": "[encoded data removed]",
      "text/plain": [
       "<Figure size 432x288 with 1 Axes>"
      ]
     },
     "metadata": {},
     "output_type": "display_data"
    }
   ],
   "source": [
    "df_survived.groupby(['Age_Range', 'Survived'])['Survived'].count().plot(title='Sobreviventes x Faixa Etaria', \n",
    "                                                                        kind='barh', \n",
    "                                                                        figsize=(6,4))\n",
    "plt.xlabel('Número de sobreviventes')\n",
    "plt.ylabel('Faixa etária')\n",
    "plt.legend(loc='best')"
   ]
  },
  {
   "cell_type": "markdown",
   "metadata": {},
   "source": [
    "Abaixo é respondida o conjunto de perguntas relacionadas a idade dos passageiros: \n",
    "- sobrevivente mais novo: 0.42\n",
    "- sobrevivente mais idosos: 80\n",
    "- idade média dos homens do návio: 30.51\n",
    "- idade média das mulheres do návio: 28.22\n",
    "- idade do vitima mais novo: 1\n",
    "- idade do vitima mais velho: 74"
   ]
  },
  {
   "cell_type": "code",
   "execution_count": 238,
   "metadata": {},
   "outputs": [
    {
     "data": {
      "text/plain": [
       "0.42"
      ]
     },
     "execution_count": 238,
     "metadata": {},
     "output_type": "execute_result"
    }
   ],
   "source": [
    "df_survived['Age'].min()"
   ]
  },
  {
   "cell_type": "code",
   "execution_count": 239,
   "metadata": {},
   "outputs": [
    {
     "data": {
      "text/plain": [
       "80.0"
      ]
     },
     "execution_count": 239,
     "metadata": {},
     "output_type": "execute_result"
    }
   ],
   "source": [
    "df_survived['Age'].max()"
   ]
  },
  {
   "cell_type": "code",
   "execution_count": 240,
   "metadata": {},
   "outputs": [
    {
     "data": {
      "text/plain": [
       "30.51"
      ]
     },
     "execution_count": 240,
     "metadata": {},
     "output_type": "execute_result"
    }
   ],
   "source": [
    "round(df[df['Sex'] == \"male\"]['Age'].mean(),2)"
   ]
  },
  {
   "cell_type": "code",
   "execution_count": 241,
   "metadata": {},
   "outputs": [
    {
     "data": {
      "text/plain": [
       "28.22"
      ]
     },
     "execution_count": 241,
     "metadata": {},
     "output_type": "execute_result"
    }
   ],
   "source": [
    "round(df[df['Sex'] == \"female\"]['Age'].mean(),2)"
   ]
  },
  {
   "cell_type": "code",
   "execution_count": 242,
   "metadata": {},
   "outputs": [
    {
     "data": {
      "text/plain": [
       "1.0"
      ]
     },
     "execution_count": 242,
     "metadata": {},
     "output_type": "execute_result"
    }
   ],
   "source": [
    "df[df['Survived'] == 0]['Age'].min()"
   ]
  },
  {
   "cell_type": "code",
   "execution_count": 243,
   "metadata": {},
   "outputs": [
    {
     "data": {
      "text/plain": [
       "74.0"
      ]
     },
     "execution_count": 243,
     "metadata": {},
     "output_type": "execute_result"
    }
   ],
   "source": [
    "df[df['Survived'] == 0]['Age'].max()"
   ]
  },
  {
   "cell_type": "markdown",
   "metadata": {},
   "source": [
    "Outro fato da análise dos sobreviventes é que apenas 25% se encontravam no meio do návio e o que o maior volume de sobreviventes estavam na parte de cima (40%) e a outra na parte de baixo do návio (30%), conforme apresenta os dados abaixo:"
   ]
  },
  {
   "cell_type": "code",
   "execution_count": 244,
   "metadata": {},
   "outputs": [
    {
     "data": {
      "text/plain": [
       "1    40.0\n",
       "3    35.0\n",
       "2    25.0\n",
       "Name: Pclass, dtype: float64"
      ]
     },
     "execution_count": 244,
     "metadata": {},
     "output_type": "execute_result"
    }
   ],
   "source": [
    "survived_pclass = return_percentual (df_survived['Pclass'].value_counts(), df_survived['Pclass'].count())\n",
    "survived_pclass"
   ]
  },
  {
   "cell_type": "code",
   "execution_count": 245,
   "metadata": {},
   "outputs": [
    {
     "data": {
      "text/plain": [
       "<matplotlib.legend.Legend at 0x7fca45fd6c18>"
      ]
     },
     "execution_count": 245,
     "metadata": {},
     "output_type": "execute_result"
    },
    {
     "data": {
      "image/png": "[encoded data removed]",
      "text/plain": [
       "<Figure size 432x288 with 1 Axes>"
      ]
     },
     "metadata": {},
     "output_type": "display_data"
    }
   ],
   "source": [
    "survived_pclass.plot(kind='Bar', title='% sobreviventes por classe do návio')\n",
    "plt.xlabel('Classe')\n",
    "plt.ylabel('% de sobreviventes por classe')\n",
    "plt.legend(loc='best')"
   ]
  },
  {
   "cell_type": "markdown",
   "metadata": {},
   "source": [
    "Pelo apresentado abaixo, houveram um numero maior de sobreviventes com idade inferior a 30 anos. Pelos dados 64% dos sobreviventes tinham até 30 anos enquanto que acima de 30 anos sobreviveram apenas 36% dos tripulantes. A média de idade dos tripulantes sobreviventes era de 28 anos."
   ]
  },
  {
   "cell_type": "code",
   "execution_count": 246,
   "metadata": {},
   "outputs": [
    {
     "data": {
      "text/plain": [
       "36.0"
      ]
     },
     "execution_count": 246,
     "metadata": {},
     "output_type": "execute_result"
    }
   ],
   "source": [
    "return_percentual (df_survived[df_survived['Age'] > 30].count(), df_survived['Age'].count())[0]"
   ]
  },
  {
   "cell_type": "code",
   "execution_count": 247,
   "metadata": {},
   "outputs": [
    {
     "data": {
      "text/plain": [
       "64.0"
      ]
     },
     "execution_count": 247,
     "metadata": {},
     "output_type": "execute_result"
    }
   ],
   "source": [
    "return_percentual (df_survived[df_survived['Age'] <= 30].count(), df_survived['Age'].count())[0]"
   ]
  },
  {
   "cell_type": "code",
   "execution_count": 248,
   "metadata": {},
   "outputs": [
    {
     "data": {
      "text/plain": [
       "Text(0,0.5,'Frequencia')"
      ]
     },
     "execution_count": 248,
     "metadata": {},
     "output_type": "execute_result"
    },
    {
     "data": {
      "image/png": "[encoded data removed]",
      "text/plain": [
       "<Figure size 432x288 with 1 Axes>"
      ]
     },
     "metadata": {},
     "output_type": "display_data"
    }
   ],
   "source": [
    "df_survived['Age'].hist()\n",
    "plt.title ('Histograma por idade dos passageiros sobreviventes')\n",
    "plt.xlabel('Idade')\n",
    "plt.ylabel('Frequencia')"
   ]
  },
  {
   "cell_type": "code",
   "execution_count": 249,
   "metadata": {},
   "outputs": [
    {
     "data": {
      "text/plain": [
       "count    342.000000\n",
       "mean      28.549778\n",
       "std       13.772498\n",
       "min        0.420000\n",
       "25%       21.000000\n",
       "50%       29.699118\n",
       "75%       35.000000\n",
       "max       80.000000\n",
       "Name: Age, dtype: float64"
      ]
     },
     "execution_count": 249,
     "metadata": {},
     "output_type": "execute_result"
    }
   ],
   "source": [
    "df_survived['Age'].describe()"
   ]
  },
  {
   "cell_type": "code",
   "execution_count": 250,
   "metadata": {},
   "outputs": [],
   "source": [
    "df_parents = df.loc[(df['Parch'] > 0) | df['SibSp'] > 0]"
   ]
  },
  {
   "cell_type": "markdown",
   "metadata": {},
   "source": [
    "Pelos dados apresentados abaixo, teve um maior número de sobreviventes os passageiros que tinham parentes no návio, porém, o resultado apresentado é bem similar, sendo 51% dos sobreviventes possuiam parentes no návio enquanto que 49% tinham parentes e morreram na tragédia."
   ]
  },
  {
   "cell_type": "code",
   "execution_count": 251,
   "metadata": {},
   "outputs": [
    {
     "data": {
      "text/plain": [
       "<matplotlib.legend.Legend at 0x7fca45f9d630>"
      ]
     },
     "execution_count": 251,
     "metadata": {},
     "output_type": "execute_result"
    },
    {
     "data": {
      "image/png": "[encoded data removed]",
      "text/plain": [
       "<Figure size 432x432 with 1 Axes>"
      ]
     },
     "metadata": {},
     "output_type": "display_data"
    }
   ],
   "source": [
    "survived_with_parents = return_percentual (df_parents['Survived'].value_counts(), df_parents['Survived'].count())\n",
    "survived_with_parents.plot(kind='pie', \n",
    "                           title='Relação de sobreviventos com familiares no návio', \n",
    "                           figsize=(6,6))\n",
    "plt.legend(loc='best')"
   ]
  },
  {
   "cell_type": "markdown",
   "metadata": {},
   "source": [
    "Abaixo a distribuição dos sobreviventes por classe do návio e local de embarque"
   ]
  },
  {
   "cell_type": "code",
   "execution_count": 252,
   "metadata": {},
   "outputs": [
    {
     "data": {
      "text/plain": [
       "<seaborn.axisgrid.FacetGrid at 0x7fca46d4c908>"
      ]
     },
     "execution_count": 252,
     "metadata": {},
     "output_type": "execute_result"
    },
    {
     "data": {
      "image/png": "[encoded data removed]",
      "text/plain": [
       "<Figure size 345.6x288 with 2 Axes>"
      ]
     },
     "metadata": {},
     "output_type": "display_data"
    }
   ],
   "source": [
    "sns.factorplot(x=\"Embarked\", y=\"Pclass\", col=\"Survived\", data=df, saturation=.4, kind=\"bar\", ci=None, aspect=.6)"
   ]
  },
  {
   "cell_type": "markdown",
   "metadata": {},
   "source": [
    "Abaixo é apresentado a distribuição do preço médio pago pelos passageiros de acordo com o porto e a classe dos mesmos. "
   ]
  },
  {
   "cell_type": "code",
   "execution_count": 253,
   "metadata": {},
   "outputs": [
    {
     "data": {
      "text/plain": [
       "<matplotlib.legend.Legend at 0x7fca45f04ef0>"
      ]
     },
     "execution_count": 253,
     "metadata": {},
     "output_type": "execute_result"
    },
    {
     "data": {
      "image/png": "[encoded data removed]",
      "text/plain": [
       "<Figure size 576x360 with 1 Axes>"
      ]
     },
     "metadata": {},
     "output_type": "display_data"
    }
   ],
   "source": [
    "df.groupby(['Embarked', 'Pclass'])['Fare'].mean().plot(kind='barh', \n",
    "                                                       title='Preço médio do ticket por porto e classe', \n",
    "                                                       figsize=(8,5))\n",
    "plt.xlabel('Preço médio do ticket')\n",
    "plt.ylabel('Porto/Classe')\n",
    "plt.legend(loc='best')"
   ]
  },
  {
   "cell_type": "markdown",
   "metadata": {},
   "source": [
    "Abaixo é apresentado a quantidade de passageiros de acordo com o porto dos mesmos. "
   ]
  },
  {
   "cell_type": "code",
   "execution_count": 254,
   "metadata": {},
   "outputs": [
    {
     "data": {
      "text/plain": [
       "<matplotlib.legend.Legend at 0x7fca45e71be0>"
      ]
     },
     "execution_count": 254,
     "metadata": {},
     "output_type": "execute_result"
    },
    {
     "data": {
      "image/png": "[encoded data removed]",
      "text/plain": [
       "<Figure size 576x360 with 1 Axes>"
      ]
     },
     "metadata": {},
     "output_type": "display_data"
    }
   ],
   "source": [
    "df.groupby(['Embarked', 'Pclass'])['Fare'].count().plot(kind='barh', \n",
    "                                                        title='Relação da quantidade de passageiros X Porto e classe', \n",
    "                                                        figsize=(8,5))\n",
    "plt.xlabel('Quantidade de passageiros')\n",
    "plt.ylabel('Porto/Classe')\n",
    "plt.legend(loc='best')"
   ]
  },
  {
   "cell_type": "markdown",
   "metadata": {},
   "source": [
    "Abaixo é apresentado o preço médio pago de acordo com a faixa etaria dos passageiros"
   ]
  },
  {
   "cell_type": "code",
   "execution_count": 255,
   "metadata": {},
   "outputs": [
    {
     "data": {
      "text/plain": [
       "Age_Range\n",
       "Adulto     32.009718\n",
       "Crianca    31.536352\n",
       "Idoso      41.371214\n",
       "Name: Fare, dtype: float64"
      ]
     },
     "execution_count": 255,
     "metadata": {},
     "output_type": "execute_result"
    }
   ],
   "source": [
    "df.groupby(['Age_Range'])['Fare'].mean()"
   ]
  },
  {
   "cell_type": "code",
   "execution_count": 256,
   "metadata": {},
   "outputs": [
    {
     "data": {
      "text/plain": [
       "<matplotlib.legend.Legend at 0x7fca45d90630>"
      ]
     },
     "execution_count": 256,
     "metadata": {},
     "output_type": "execute_result"
    },
    {
     "data": {
      "image/png": "[encoded data removed]",
      "text/plain": [
       "<Figure size 576x576 with 1 Axes>"
      ]
     },
     "metadata": {},
     "output_type": "display_data"
    }
   ],
   "source": [
    "df.groupby(['Age_Range'])['Fare'].mean().plot(kind='barh', \n",
    "                                              title='Preço médio do ticket x Faixa etaria',\n",
    "                                              figsize=(8,8))\n",
    "plt.xlabel('Preço médio do ticket')\n",
    "plt.ylabel('Faixa etária')\n",
    "plt.legend(loc='best')"
   ]
  },
  {
   "cell_type": "markdown",
   "metadata": {},
   "source": [
    "## Referencias utilizadas\n",
    "https://stackoverflow.com/questions/17071871/select-rows-from-a-dataframe-based-on-values-in-a-column-in-pandas\n",
    "\n",
    "https://pandas.pydata.org/pandas-docs/version/0.22/generated/pandas.DataFrame.plot.html\n",
    "\n",
    "http://www.vitormeriat.com.br/2017/03/18/titanic-machine-learning-from-disaster/\n",
    "\n",
    "https://seaborn.pydata.org/generated/seaborn.catplot.html\n",
    "\n",
    "http://minerandodados.com.br/index.php/2017/09/26/python-para-analise-de-dados/\n",
    "\n",
    "https://paulovasconcellos.com.br/15-comandos-de-matplotlib-que-talvez-voc%C3%AA-n%C3%A3o-conhe%C3%A7a-17cf88a75119"
   ]
  },
  {
   "cell_type": "markdown",
   "metadata": {},
   "source": [
    "## Resultado Final\n",
    "\n",
    "Para realização das análises acima foram utilizados gráficos de barra, colunas e um histograma com o objetivo de responder aos questionamentos feitos logo no início da análise dos dados aqui mesmo neste notebook.\n",
    "Todos as análise foram realizadas utilizando o panda DataFrame com o matplotlib e o seaborn para apresentação dos gráficos. \n",
    "\n",
    "Os questionamentos feitos no início das análises foram respondidos ao longo das descobertas.\n"
   ]
  },
  {
   "cell_type": "markdown",
   "metadata": {},
   "source": [
    "## Limitações "
   ]
  },
  {
   "cell_type": "markdown",
   "metadata": {},
   "source": [
    "Foram encontrados alguns valores limitantes por não conter os dados para todos os passageiros, como são os casos dos atributos: \n",
    "\n",
    "- Cabin\n",
    "- Age \n",
    "- Embarked\n",
    "\n",
    "O atributo Cabin foi retirado das análises no momento de data wrangling. Já o atributo Age foi preenchido com a média da idade presente no Data Frame. Com o atributo Embarked foi adicionado uma informação de valor não informado para que pudessemos identificar que para alguns passageiros não foi informado onde o mesmo embarcou."
   ]
  },
  {
   "cell_type": "code",
   "execution_count": null,
   "metadata": {},
   "outputs": [],
   "source": []
  }
 ],
 "metadata": {
  "kernelspec": {
   "display_name": "Python 3",
   "language": "python",
   "name": "python3"
  },
  "language_info": {
   "codemirror_mode": {
    "name": "ipython",
    "version": 3
   },
   "file_extension": ".py",
   "mimetype": "text/x-python",
   "name": "python",
   "nbconvert_exporter": "python",
   "pygments_lexer": "ipython3",
   "version": "3.6.5"
  }
 },
 "nbformat": 4,
 "nbformat_minor": 2
}
